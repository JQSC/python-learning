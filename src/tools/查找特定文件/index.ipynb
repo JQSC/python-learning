{
 "cells": [
  {
   "cell_type": "markdown",
   "metadata": {},
   "source": [
    "## 查询文件路径\n",
    "根据指定文件名查询文件路径"
   ]
  },
  {
   "cell_type": "markdown",
   "metadata": {
    "vscode": {
     "languageId": "plaintext"
    }
   },
   "source": [
    "### UI"
   ]
  },
  {
   "cell_type": "code",
   "execution_count": 12,
   "metadata": {},
   "outputs": [
    {
     "data": {
      "application/vnd.jupyter.widget-view+json": {
       "model_id": "3fd2a747f47a49f28e01bd59fb7f9e4c",
       "version_major": 2,
       "version_minor": 0
      },
      "text/plain": [
       "GridBox(children=(Button(button_style='success', description='选择查询目录', style=ButtonStyle(), tooltip='选择目录'), T…"
      ]
     },
     "execution_count": 12,
     "metadata": {},
     "output_type": "execute_result"
    }
   ],
   "source": [
    "import tkinter as tk\n",
    "from tkinter import filedialog\n",
    "import ipywidgets as widgets\n",
    "from IPython.display import HTML\n",
    "\n",
    "\n",
    "def select_directory():\n",
    "    # 初始化 Tkinter 主窗口\n",
    "    root = tk.Tk()\n",
    "    root.withdraw()  # 隐藏主窗口\n",
    "\n",
    "    # 打开文件选择对话框\n",
    "    folder_selected = filedialog.askdirectory()\n",
    "\n",
    "    # 关闭 Tkinter 主窗口\n",
    "    root.destroy()\n",
    "\n",
    "    return folder_selected\n",
    "\n",
    "button_dir = widgets.Button(\n",
    "    description='选择查询目录',\n",
    "    disabled=False,\n",
    "    button_style='success', # 'success', 'info', 'warning', 'danger' or ''\n",
    "    tooltip='选择目录',\n",
    ")\n",
    "\n",
    "text = widgets.Text(\n",
    "    value='',\n",
    "    placeholder='查询目录',\n",
    "    # description='选中的目录地址:',\n",
    "    disabled=True\n",
    ")\n",
    "\n",
    "input = widgets.Text(\n",
    "    value='',\n",
    "    placeholder=' 要匹配的文件名称'\n",
    ")\n",
    "def btn_disable():\n",
    "    button_dir.disabled = not button_dir.disabled\n",
    "\n",
    "def dir_btn_click(b):\n",
    "    btn_disable()\n",
    "    text.value = select_directory()\n",
    "    btn_disable()\n",
    "\n",
    "button_dir.on_click(dir_btn_click)\n",
    "\n",
    "widgets.GridBox([button_dir,text,input],layout=widgets.Layout(grid_template_columns=\"160px 320px 240px\"))\n"
   ]
  },
  {
   "cell_type": "code",
   "execution_count": 37,
   "metadata": {},
   "outputs": [
    {
     "name": "stdout",
     "output_type": "stream",
     "text": [
      "数据已写入到 __data__/@liepin_less.json\n"
     ]
    }
   ],
   "source": [
    "from pathlib import Path\n",
    "import json\n",
    "\n",
    "\n",
    "def write_file(path, content):\n",
    "    path = Path(path)\n",
    "    with path.open(mode = 'w') as f:\n",
    "        f.write(content)\n",
    "    print(f\"数据已写入到 {path}\")\n",
    "    return \n",
    "\n",
    "def start(path, match_str):\n",
    "    dir_path = Path(path)\n",
    "    \n",
    "    if not path:\n",
    "        return\n",
    "\n",
    "    if dir_path.is_file():\n",
    "        return\n",
    "\n",
    "    if dir_path.is_dir():\n",
    "        data = []\n",
    "\n",
    "        for file_path in dir_path.rglob(\"*\"):\n",
    "            if file_path.is_file():\n",
    "                if match_str in file_path.name:\n",
    "                    data.append(str(file_path))\n",
    "        json_str = json.dumps(data, ensure_ascii=False, indent=4)\n",
    "        write_file(f'./__data__/{dir_path.name}{match_str}.json',json_str)\n",
    "    return\n",
    "\n",
    "\n",
    "start(text.value, input.value)"
   ]
  },
  {
   "cell_type": "code",
   "execution_count": null,
   "metadata": {},
   "outputs": [],
   "source": []
  }
 ],
 "metadata": {
  "kernelspec": {
   "display_name": ".venv",
   "language": "python",
   "name": "python3"
  },
  "language_info": {
   "codemirror_mode": {
    "name": "ipython",
    "version": 3
   },
   "file_extension": ".py",
   "mimetype": "text/x-python",
   "name": "python",
   "nbconvert_exporter": "python",
   "pygments_lexer": "ipython3",
   "version": "3.9.19"
  }
 },
 "nbformat": 4,
 "nbformat_minor": 2
}
