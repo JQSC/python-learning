{
 "cells": [
  {
   "cell_type": "markdown",
   "metadata": {},
   "source": [
    "# pathlib \n",
    "https://docs.python.org/zh-cn/3/library/pathlib.html#module-pathlib\n",
    "\n",
    "该模块提供表示文件系统路径的类，其语义适用于不同的操作系统。"
   ]
  },
  {
   "cell_type": "code",
   "execution_count": 110,
   "metadata": {},
   "outputs": [],
   "source": [
    "from pathlib import Path,PurePath"
   ]
  },
  {
   "cell_type": "markdown",
   "metadata": {},
   "source": [
    "## 查询文件类型和状态\n",
    "### Path.stat(*, follow_symlinks=True)\n",
    "返回一个 os.stat_result 对象，其中包含有关此路径的信息"
   ]
  },
  {
   "cell_type": "code",
   "execution_count": 11,
   "metadata": {},
   "outputs": [
    {
     "data": {
      "text/plain": [
       "os.stat_result(st_mode=33188, st_ino=90713930, st_dev=16777220, st_nlink=1, st_uid=501, st_gid=20, st_size=6, st_atime=1719388868, st_mtime=1719388868, st_ctime=1719389103)"
      ]
     },
     "execution_count": 11,
     "metadata": {},
     "output_type": "execute_result"
    }
   ],
   "source": [
    "p = Path('./test/test.py')\n",
    "p.stat()"
   ]
  },
  {
   "cell_type": "markdown",
   "metadata": {},
   "source": [
    "### Path.exists(*, follow_symlinks=True)\n",
    "如果目录或文件存在则返回 True\n",
    "### Path.is_dir()\n",
    "路径是否存在"
   ]
  },
  {
   "cell_type": "code",
   "execution_count": 17,
   "metadata": {},
   "outputs": [
    {
     "data": {
      "text/plain": [
       "False"
      ]
     },
     "execution_count": 17,
     "metadata": {},
     "output_type": "execute_result"
    }
   ],
   "source": [
    "Path('./test/test.py').exists()\n",
    "Path('./test/test.py').is_dir()"
   ]
  },
  {
   "cell_type": "markdown",
   "metadata": {},
   "source": [
    "### Path.glob(pattern, *, case_sensitive=None)\n",
    "查找当前目录中的匹配项，不会递归查找子目录\n",
    "### Path.rglob(pattern, *, case_sensitive=None)\n",
    "递归地查找目录及其所有子目录中的匹配项"
   ]
  },
  {
   "cell_type": "code",
   "execution_count": 6,
   "metadata": {},
   "outputs": [
    {
     "name": "stdout",
     "output_type": "stream",
     "text": [
      "glob os_path.ipynb\n",
      "glob test\n",
      "glob pathlib.ipynb\n",
      "rglob os_path.ipynb\n",
      "rglob test\n",
      "rglob pathlib.ipynb\n",
      "rglob test/test.py\n",
      "rglob test/new_3.py\n",
      "rglob test/new_2.py\n",
      "rglob test/1.py\n",
      "rglob test/2\n"
     ]
    }
   ],
   "source": [
    "from pathlib import Path\n",
    "paths = Path('./').glob(\"*\")\n",
    "r_paths = Path('./').rglob(\"*\")\n",
    "\n",
    "for path in paths:\n",
    "    print(\"glob\",path)\n",
    "\n",
    "for path in r_paths:\n",
    "    print(\"rglob\",path)"
   ]
  },
  {
   "cell_type": "markdown",
   "metadata": {},
   "source": [
    "## 文件读写\n",
    "### Path.open(mode='r', buffering=-1, encoding=None, errors=None, newline=None)\n",
    "打开路径指向的文件，就像内置的 open() 函数所做的一样:\n",
    "mode 类型：\n",
    "* r:读取\n",
    "* w:写入\n",
    "* a:追加\n",
    "* b:二进制\n",
    "* t:文本\n",
    "* +:读写"
   ]
  },
  {
   "cell_type": "code",
   "execution_count": 21,
   "metadata": {},
   "outputs": [
    {
     "name": "stdout",
     "output_type": "stream",
     "text": [
      "a = 1\n",
      "\n"
     ]
    }
   ],
   "source": [
    "p = Path('./test/test.py')\n",
    "with p.open() as f:\n",
    "    content = f.readline()\n",
    "    print(content)"
   ]
  },
  {
   "cell_type": "markdown",
   "metadata": {},
   "source": [
    "### Path.read_text(encoding=None, errors=None)\n",
    "以字符串形式返回路径指向的文件的解码后文本内容。\n",
    "\n",
    "### Path.write_text(data, encoding=None, errors=None, newline=None)\n",
    "将文件以文本模式打开，写入 data 并关闭:"
   ]
  },
  {
   "cell_type": "code",
   "execution_count": 47,
   "metadata": {},
   "outputs": [
    {
     "data": {
      "text/plain": [
       "'a = 2'"
      ]
     },
     "execution_count": 47,
     "metadata": {},
     "output_type": "execute_result"
    }
   ],
   "source": [
    "p = Path('./test/test.py')\n",
    "p.write_text('a = 2')\n",
    "p.read_text()"
   ]
  },
  {
   "cell_type": "markdown",
   "metadata": {},
   "source": [
    "## 读取目录\n",
    "### Path.iterdir()\n",
    "当路径指向一个目录时，产生该路径下的对象的路径:"
   ]
  },
  {
   "cell_type": "code",
   "execution_count": 37,
   "metadata": {},
   "outputs": [
    {
     "name": "stdout",
     "output_type": "stream",
     "text": [
      "<class 'generator'>\n",
      "os_path.ipynb\n",
      "test.py\n",
      "pathlib.ipynb\n"
     ]
    }
   ],
   "source": [
    "p = Path('.')\n",
    "# 生成器类型\n",
    "print(type(p.iterdir()))\n",
    "for child in p.iterdir(): print(child)"
   ]
  },
  {
   "cell_type": "markdown",
   "metadata": {},
   "source": [
    "### Path.glob(pattern, *, case_sensitive=None)\n",
    "解析相对于此路径的通配符 pattern，产生所有匹配的文件，适用正则匹配场景"
   ]
  },
  {
   "cell_type": "code",
   "execution_count": 48,
   "metadata": {},
   "outputs": [
    {
     "name": "stdout",
     "output_type": "stream",
     "text": [
      "<generator object Path.glob at 0x7f85965a5580>\n"
     ]
    },
    {
     "data": {
      "text/plain": [
       "[PosixPath('test.py')]"
      ]
     },
     "execution_count": 48,
     "metadata": {},
     "output_type": "execute_result"
    }
   ],
   "source": [
    "p = Path('.').glob('./*.py')\n",
    "type(p)\n",
    "# for child in p.iterdir(): print(child)\n",
    "print(p)\n",
    "sorted(p)\n",
    "\n"
   ]
  },
  {
   "cell_type": "markdown",
   "metadata": {},
   "source": [
    "## 创建文件和目录\n",
    "### Path.touch(mode=0o666, exist_ok=True)\n",
    "用于创建一个新文件，如果已存在责更新访问和修改时间。\n",
    "exist_ok 为 False ，文件存在则报错，默认为 True 不引发错误"
   ]
  },
  {
   "cell_type": "code",
   "execution_count": 59,
   "metadata": {},
   "outputs": [],
   "source": [
    "p = Path('./test/1.py')\n",
    "p.touch()"
   ]
  },
  {
   "cell_type": "markdown",
   "metadata": {},
   "source": [
    "### Path.mkdir(mode=0o777, parents=False, exist_ok=False)\n",
    "\n",
    "* 创建目录\n",
    "* mode: 权限\n",
    "* parents: 是否创建父目录\n",
    "* exist_ok: 是否允许目录已存在\n",
    "\n",
    "以默认权限创建目录,exist_ok默认为 False，目录存在责报错"
   ]
  },
  {
   "cell_type": "code",
   "execution_count": 60,
   "metadata": {},
   "outputs": [],
   "source": [
    "p = Path('./test/2')\n",
    "p.mkdir(exist_ok = True)"
   ]
  },
  {
   "cell_type": "markdown",
   "metadata": {},
   "source": [
    "## 重命名和删除\n",
    "### Path.rename(target)\n",
    "重命名文件，在 Windows 上，如果目标存在，则将引发 FileExistsError。此时需要覆盖则使用 `Path.replace(target)`"
   ]
  },
  {
   "cell_type": "code",
   "execution_count": 65,
   "metadata": {},
   "outputs": [
    {
     "data": {
      "text/plain": [
       "PosixPath('new_2.py')"
      ]
     },
     "execution_count": 65,
     "metadata": {},
     "output_type": "execute_result"
    }
   ],
   "source": [
    "p = Path('./test/2.py')\n",
    "p.touch()\n",
    "new_p = Path('./test/new_2.py')\n",
    "p.rename(new_p)"
   ]
  },
  {
   "cell_type": "markdown",
   "metadata": {},
   "source": [
    "### Path.replace(target)\n",
    "将此文件或目录重命名为给定目标，并返回指向目标的新 Path 实例。 如果target指向现有文件或空目录，则将无条件替换。"
   ]
  },
  {
   "cell_type": "code",
   "execution_count": 80,
   "metadata": {},
   "outputs": [
    {
     "data": {
      "text/plain": [
       "PosixPath('new_3.py')"
      ]
     },
     "execution_count": 80,
     "metadata": {},
     "output_type": "execute_result"
    }
   ],
   "source": [
    "# 创建 3.py\n",
    "p = Path('./test/3.py')\n",
    "p.touch()\n",
    "p.write_text('123')\n",
    "# 创建 new_3.py\n",
    "new_p = Path('./test/new_3.py')\n",
    "new_p.touch()\n",
    "new_p.write_text('456')\n",
    "# 替换 实际效果与 rename 相同，它们之间的差异？\n",
    "p.replace(new_p)"
   ]
  },
  {
   "cell_type": "markdown",
   "metadata": {},
   "source": [
    "### Path.rmdir()\n",
    "移除此目录。此目录必须为空的。不为空则报错。"
   ]
  },
  {
   "cell_type": "code",
   "execution_count": 99,
   "metadata": {},
   "outputs": [],
   "source": [
    "p = Path('./test/4')\n",
    "p.mkdir(exist_ok = True)\n",
    "\n",
    "p.rmdir()"
   ]
  },
  {
   "cell_type": "markdown",
   "metadata": {},
   "source": [
    "## 所有权和权限\n",
    "### Path.owner()\n",
    "返回拥有该文件的用户的名称。\n",
    "### Path.group()\n",
    "返回该文件的组名称。"
   ]
  },
  {
   "cell_type": "code",
   "execution_count": 102,
   "metadata": {},
   "outputs": [
    {
     "data": {
      "text/plain": [
       "'staff'"
      ]
     },
     "execution_count": 102,
     "metadata": {},
     "output_type": "execute_result"
    }
   ],
   "source": [
    "p = Path('./test/test.py')\n",
    "p.owner()\n",
    "p.group()"
   ]
  },
  {
   "cell_type": "markdown",
   "metadata": {},
   "source": [
    "### Path.chmod(mode, *, follow_symlinks=True)\n",
    "改变文件模式和权限，和 os.chmod() 一样。\n",
    "\n",
    "文件权限由三部分组成：所有者、组和其他用户。每一部分都有读（r）、写（w）和执行（x）权限。\n",
    "\n",
    "八进制表示法：\n",
    "\n",
    "* 4：读权限\n",
    "* 2：写权限\n",
    "* 1：执行权限\n",
    "\n",
    "通过相加表示组合权限，例如 7（4 + 2 + 1）代表 rwx 权限。\n",
    "\n",
    "* 7（所有者）：读、写和执行权限（4 + 2 + 1）。\n",
    "* 5（组）：读和执行权限（4 + 1）。\n",
    "* 5（其他用户）：读和执行权限（4 + 1）。"
   ]
  },
  {
   "cell_type": "code",
   "execution_count": 106,
   "metadata": {},
   "outputs": [],
   "source": [
    "p = Path('./test/test.py')\n",
    "# 0o表示八进制\n",
    "p.chmod(0o755)"
   ]
  },
  {
   "cell_type": "markdown",
   "metadata": {},
   "source": [
    "## 其他方法\n",
    "### Path.cwd()\n",
    "返回一个新的表示当前目录的路径对象（和 os.getcwd() 返回的相同）\n",
    "### Path.home()\n",
    "返回一个表示用户家目录的新路径对象\n",
    "### Path.readlink()\n",
    "返回符号链接所指向的路径（即 os.readlink() 的返回值）:\n",
    "### Path.absolute()\n",
    "返回绝对路径\n",
    "### Path.resolve(strict=False)\n",
    "将路径绝对化，解析任何符号链接。返回新的路径对象"
   ]
  },
  {
   "cell_type": "code",
   "execution_count": 108,
   "metadata": {},
   "outputs": [
    {
     "name": "stdout",
     "output_type": "stream",
     "text": [
      "/Users/liepin/my/openai-quickstart-python/python相关/处理文件路径\n",
      "/Users/liepin/my/openai-quickstart-python/python相关/处理文件路径\n",
      "/Users/liepin\n",
      "/Users/liepin/my/openai-quickstart-python/python相关/处理文件路径\n"
     ]
    }
   ],
   "source": [
    "p = Path('.')\n",
    "print(p.resolve())\n",
    "print(p.cwd())\n",
    "print(p.home())\n",
    "print(p.absolute())"
   ]
  },
  {
   "cell_type": "markdown",
   "metadata": {},
   "source": [
    "\n",
    "### Path.joinpath(*pathsegments)\n",
    "等同于 `os.path.join(path, *paths)`"
   ]
  },
  {
   "cell_type": "code",
   "execution_count": 125,
   "metadata": {},
   "outputs": [
    {
     "data": {
      "text/plain": [
       "PosixPath('/etc/passwd')"
      ]
     },
     "execution_count": 125,
     "metadata": {},
     "output_type": "execute_result"
    }
   ],
   "source": [
    "Path('/etc').joinpath('passwd')"
   ]
  },
  {
   "cell_type": "markdown",
   "metadata": {},
   "source": [
    "### Path.match(pattern, *, case_sensitive=None)\n",
    "将此路径与提供的 glob 样式模式匹配。 匹配成功则返回True，"
   ]
  },
  {
   "cell_type": "code",
   "execution_count": 126,
   "metadata": {},
   "outputs": [
    {
     "data": {
      "text/plain": [
       "True"
      ]
     },
     "execution_count": 126,
     "metadata": {},
     "output_type": "execute_result"
    }
   ],
   "source": [
    "Path('a/b.py').match('*.py')"
   ]
  },
  {
   "cell_type": "markdown",
   "metadata": {},
   "source": [
    "### Path.name\n",
    "返回路径 path 的最后一部分。等同与 path.basename()\n",
    "### Path.parent\n",
    "返回路径 path 的目录名。等同与path.dirname()"
   ]
  },
  {
   "cell_type": "code",
   "execution_count": 129,
   "metadata": {},
   "outputs": [
    {
     "data": {
      "text/plain": [
       "'test.py'"
      ]
     },
     "execution_count": 129,
     "metadata": {},
     "output_type": "execute_result"
    }
   ],
   "source": [
    "p = Path('./test/test.py')\n",
    "p.parent\n",
    "p.name"
   ]
  },
  {
   "cell_type": "markdown",
   "metadata": {},
   "source": [
    "### Path.suffix\n",
    "获取后缀名\n",
    "### Path.stem\n",
    "除去后缀后的路径\n",
    "### Path.parts\n",
    "返回一个元组，包含路径的各个部分"
   ]
  },
  {
   "cell_type": "code",
   "execution_count": 2,
   "metadata": {},
   "outputs": [
    {
     "name": "stdout",
     "output_type": "stream",
     "text": [
      "test\n",
      ".py\n",
      "('test', 'test.py')\n"
     ]
    }
   ],
   "source": [
    "from pathlib import Path\n",
    "\n",
    "p = Path('./test/test.py')\n",
    "print(p.stem)\n",
    "print(p.suffix)\n",
    "print(p.parts)\n"
   ]
  }
 ],
 "metadata": {
  "kernelspec": {
   "display_name": ".venv",
   "language": "python",
   "name": "python3"
  },
  "language_info": {
   "codemirror_mode": {
    "name": "ipython",
    "version": 3
   },
   "file_extension": ".py",
   "mimetype": "text/x-python",
   "name": "python",
   "nbconvert_exporter": "python",
   "pygments_lexer": "ipython3",
   "version": "3.9.19"
  }
 },
 "nbformat": 4,
 "nbformat_minor": 2
}
