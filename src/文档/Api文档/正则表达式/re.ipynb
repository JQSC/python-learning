{
 "cells": [
  {
   "cell_type": "markdown",
   "metadata": {},
   "source": [
    "# re\n",
    "正则表达式操作。\n",
    "在执行替换时，替换字串的类型也必须与所用的模式和搜索字串的类型一致。不能将 Unicode 字符串与字节串模式进行匹配，反之亦然。\n",
    "正则使用反斜杠\\,与 js 相反，js 使用正斜杠/。\n",
    "避免匹配项中存在\\这样冲突的转移字符，建议使用 r前缀包裹字符串，就不用考虑转义问题了。使用方式与 js 中类似。\n",
    "\n",
    "### 标志 (flags)\n",
    "* re.IGNORECASE：忽略大小写\n",
    "* re.MULTILINE：多行匹配\n",
    "* re.DOTALL：允许 . 匹配换行符\n",
    "* re.UNICODE：启用 Unicode 匹配（Python 3 默认启用）\n",
    "* re.VERBOSE：允许使用空格和注释"
   ]
  },
  {
   "cell_type": "markdown",
   "metadata": {},
   "source": [
    "### re.compile(pattern, flags=0)\n",
    "将正则表达式的样式编译为一个 正则表达式对象 （正则对象），\n",
    "可以用于匹配，通过这个对象的方法 match(), search() 以及其他。\n",
    "\n",
    "如果需要多次使用这个正则表达式的话，使用 re.compile() 和保存这个正则对象以便复用，可以让程序更加高效。"
   ]
  },
  {
   "cell_type": "code",
   "execution_count": 2,
   "metadata": {},
   "outputs": [
    {
     "name": "stdout",
     "output_type": "stream",
     "text": [
      "('010', '12345')\n"
     ]
    }
   ],
   "source": [
    "import re\n",
    "\n",
    "pattern = r'^(\\d{3})-(\\d{3,8})$'\n",
    "string = '010-12345'\n",
    "\n",
    "# compile编译后会被缓存。\n",
    "re_telephone = re.compile(pattern)\n",
    "re_telephone.match(string).groups()\n",
    "\n",
    "# 等价使用match\n",
    "result = re.match(pattern, string).groups()\n",
    "print(result)"
   ]
  },
  {
   "cell_type": "markdown",
   "metadata": {},
   "source": [
    "### re.match(pattern, string, flags=0)\n",
    "从字符串的起始位置匹配"
   ]
  },
  {
   "cell_type": "code",
   "execution_count": 16,
   "metadata": {},
   "outputs": [
    {
     "name": "stdout",
     "output_type": "stream",
     "text": [
      "hello\n"
     ]
    }
   ],
   "source": [
    "result2 = re.match(r'hello', 'hello world hello')\n",
    "\n",
    "print(result2.group())"
   ]
  },
  {
   "cell_type": "markdown",
   "metadata": {},
   "source": [
    "### re.search(pattern, string, flags=0)\n",
    "在字符串中搜索正则表达式的匹配项"
   ]
  },
  {
   "cell_type": "code",
   "execution_count": 18,
   "metadata": {},
   "outputs": [
    {
     "name": "stdout",
     "output_type": "stream",
     "text": [
      "hello\n"
     ]
    }
   ],
   "source": [
    "result2 = re.search(r'hello', '12 hello world hello')\n",
    "\n",
    "print(result2.group())"
   ]
  },
  {
   "cell_type": "markdown",
   "metadata": {},
   "source": [
    "### re.findall(pattern, string, flags=0)\n",
    "返回 pattern 在 string 中的所有非重叠匹配，以字符串列表或字符串元组列表的形式。"
   ]
  },
  {
   "cell_type": "code",
   "execution_count": 14,
   "metadata": {},
   "outputs": [
    {
     "name": "stdout",
     "output_type": "stream",
     "text": [
      "['hello', 'hello']\n"
     ]
    }
   ],
   "source": [
    "\n",
    "result2 = re.findall(r'hello', '12 hello world hello')\n",
    "\n",
    "print(result2)"
   ]
  },
  {
   "cell_type": "markdown",
   "metadata": {},
   "source": [
    "### re.split(pattern, string, maxsplit=0, flags=0)\n",
    "用 pattern 分开 string 。 如果在 pattern 中捕获到括号，那么所有的组里的文字也会包含在列表里。如果 maxsplit 非零， 最多进行 maxsplit 次分隔， 剩下的字符全部返回到列表的最后一个元素。"
   ]
  },
  {
   "cell_type": "code",
   "execution_count": 2,
   "metadata": {},
   "outputs": [
    {
     "data": {
      "text/plain": [
       "['Words', 'words', 'words', '']"
      ]
     },
     "execution_count": 2,
     "metadata": {},
     "output_type": "execute_result"
    }
   ],
   "source": [
    "re.split(r'\\W+', 'Words, words, words.')"
   ]
  },
  {
   "cell_type": "markdown",
   "metadata": {},
   "source": [
    "### re.sub(pattern, repl, string, count=0, flags=0)\n",
    "替换匹配的子字符串。类似 js 中的 replace\n",
    "\n",
    "* repl：替换的字符串，或者是一个函数。\n",
    "* string：需要替换的原始字符串\n",
    "\n",
    "match.group(): 返回匹配到的字符串\n",
    "match.groups(): 返回匹配到的字符串组成的元组\n",
    "match.groupdict(): 返回匹配到的字符串组成的字典\n",
    "match.start(): 返回匹配到的字符串的开始位置\n",
    "match.end(): 返回匹配到的字符串的结束位置\n",
    "match.span(): 返回匹配到的字符串的开始和结束位置组成的元组\n",
    "match.expand(template): 返回替换后的字符串"
   ]
  },
  {
   "cell_type": "code",
   "execution_count": 53,
   "metadata": {},
   "outputs": [
    {
     "name": "stdout",
     "output_type": "stream",
     "text": [
      "className\n"
     ]
    },
    {
     "data": {
      "text/plain": [
       "'hello world className=\"abc\"'"
      ]
     },
     "execution_count": 53,
     "metadata": {},
     "output_type": "execute_result"
    }
   ],
   "source": [
    "text = 'hello world className=\"class\"'\n",
    "\n",
    "def replace(match):\n",
    "  prefix  = match.group(1)\n",
    "  return f\"\"\"{prefix}=\"abc\\\"\"\"\"\n",
    "\n",
    "re.sub(r'(className)=\"([^\"]*)\"',replace,text)"
   ]
  },
  {
   "cell_type": "markdown",
   "metadata": {},
   "source": []
  }
 ],
 "metadata": {
  "kernelspec": {
   "display_name": ".venv",
   "language": "python",
   "name": "python3"
  },
  "language_info": {
   "codemirror_mode": {
    "name": "ipython",
    "version": 3
   },
   "file_extension": ".py",
   "mimetype": "text/x-python",
   "name": "python",
   "nbconvert_exporter": "python",
   "pygments_lexer": "ipython3",
   "version": "3.9.19"
  }
 },
 "nbformat": 4,
 "nbformat_minor": 2
}
