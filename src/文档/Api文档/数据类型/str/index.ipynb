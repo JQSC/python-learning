{
 "cells": [
  {
   "cell_type": "markdown",
   "metadata": {},
   "source": [
    "# string 常见的字符串操作\n",
    "\n",
    "文档地址：https://docs.python.org/zh-cn/3/library/string.html\n",
    "\n",
    "## 字符串常量"
   ]
  },
  {
   "cell_type": "code",
   "execution_count": 2,
   "metadata": {},
   "outputs": [
    {
     "data": {
      "text/plain": [
       "'chi'"
      ]
     },
     "execution_count": 2,
     "metadata": {},
     "output_type": "execute_result"
    }
   ],
   "source": [
    "text = \"chi\"\n",
    "\n",
    "text.lower()"
   ]
  },
  {
   "cell_type": "markdown",
   "metadata": {},
   "source": [
    "## 格式字符串\n",
    "### format(format_string, /, *args, **kwargs)\n",
    "接受一个格式字符串和任意一组位置和关键字参数"
   ]
  },
  {
   "cell_type": "code",
   "execution_count": 8,
   "metadata": {},
   "outputs": [
    {
     "name": "stdout",
     "output_type": "stream",
     "text": [
      "HelloWorld!\n"
     ]
    }
   ],
   "source": [
    "# 定义用于格式化的占位符\n",
    "text = \"{0}{1}{2}\"\n",
    "formatted_text = text.format(\"Hello\", \"World\", \"!\")\n",
    "print(formatted_text)"
   ]
  },
  {
   "cell_type": "markdown",
   "metadata": {},
   "source": [
    "### f-strings\n",
    "使用 f-strings（Python 3.6 及以上版本）"
   ]
  },
  {
   "cell_type": "code",
   "execution_count": 9,
   "metadata": {},
   "outputs": [
    {
     "name": "stdout",
     "output_type": "stream",
     "text": [
      "HelloWorld!\n"
     ]
    }
   ],
   "source": [
    "text = \"{1}{2}{3}\"\n",
    "# 需要先定义变量1, 2, 3\n",
    "_1 = \"Hello\"\n",
    "_2 = \"World\"\n",
    "_3 = \"!\"\n",
    "formatted_text = f\"{_1}{_2}{_3}\"\n",
    "print(formatted_text)  # 输出: HelloWorld!\n"
   ]
  },
  {
   "cell_type": "markdown",
   "metadata": {},
   "source": [
    "### 切片取字符串"
   ]
  },
  {
   "cell_type": "code",
   "execution_count": 10,
   "metadata": {},
   "outputs": [
    {
     "name": "stdout",
     "output_type": "stream",
     "text": [
      "12\n",
      "1468\n",
      "456789\n",
      "45678\n",
      "0\n"
     ]
    }
   ],
   "source": [
    "str0 = \"012456789\"\n",
    "print(str0[1:3])\n",
    "print(str0[1::2])      # 2为步长\n",
    "print(str0[3:])\n",
    "print(str0[3:-1])\n",
    "print(len(str0[100:])) # 返回空字符串"
   ]
  },
  {
   "cell_type": "markdown",
   "metadata": {},
   "source": [
    "## 字符串查找和统计\n",
    "### 判断子字符串存在"
   ]
  },
  {
   "cell_type": "code",
   "execution_count": 11,
   "metadata": {},
   "outputs": [
    {
     "name": "stdout",
     "output_type": "stream",
     "text": [
      "True\n",
      "False\n"
     ]
    }
   ],
   "source": [
    "str0 = \"0123456789\"\n",
    "print(\"123\" in str0)\n",
    "print(\"123\" not in str0)"
   ]
  }
 ],
 "metadata": {
  "kernelspec": {
   "display_name": ".venv",
   "language": "python",
   "name": "python3"
  },
  "language_info": {
   "codemirror_mode": {
    "name": "ipython",
    "version": 3
   },
   "file_extension": ".py",
   "mimetype": "text/x-python",
   "name": "python",
   "nbconvert_exporter": "python",
   "pygments_lexer": "ipython3",
   "version": "3.9.19"
  }
 },
 "nbformat": 4,
 "nbformat_minor": 2
}
