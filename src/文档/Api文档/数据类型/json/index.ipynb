{
 "cells": [
  {
   "cell_type": "markdown",
   "metadata": {},
   "source": [
    "JSON（JavaScript Object Notation）并不是一种 Python 内置的数据类型，而是一种用于数据交换的格式。JSON 是一种轻量级的数据交换格式，易于人阅读和编写，同时也易于机器解析和生成。它广泛用于在服务器和客户端之间传输数据。\n",
    "\n",
    "在 Python 中，JSON 格式的数据通常会被转换为 Python 内置的数据类型进行处理。常见的映射关系如下：\n",
    "\n",
    "* JSON 对象 对应 Python 字典 (dict)\n",
    "* JSON 数组 对应 Python 列表 (list)\n",
    "* JSON 字符串 对应 Python 字符串 (str)\n",
    "* JSON 数字 对应 Python 整数 (int) 或 浮点数 (float)\n",
    "* JSON 布尔值 对应 Python 布尔值 (bool)\n",
    "* JSON null 对应 Python None"
   ]
  },
  {
   "cell_type": "markdown",
   "metadata": {},
   "source": [
    "## JSON 和 Python 数据类型之间的转换\n",
    "### json.dumps(obj, *, skipkeys=False, ensure_ascii=True, check_circular=True, allow_nan=True, cls=None, indent=None, separators=None, default=None, sort_keys=False, **kw)\n",
    "\n",
    "* obj: 要序列化的 Python 对象（如字典、列表、元组等）\n",
    "* skipkeys: 如果为 True，则字典中无法转换为合法 JSON 键的键将被跳过。否则会引发 TypeError。\n",
    "* ensure_ascii: 如果为 True，则输出的 JSON 字符串中所有非 ASCII 字符都会被转义为 \\uXXXX 序列\n",
    "* check_circular: 如果为 True，则序列化对象时检查循环引用，否则会引发 TypeError。\n",
    "* allow_nan: 如果为 True，则允许序列化 NaN、Infinity 和 -Infinity 为 null。如果为 False，则会引发 ValueError。\n",
    "* cls: 可以指定自定义的 JSON 编码器类。通常不需要使用此参数，除非需要自定义序列化行为。\n",
    "* indent: 如果为 None，则输出的 JSON 字符串没有缩进；如果为非负整数，则输出的 JSON 字符串\n",
    "* separators: 可以自定义项之间的分隔符。例如，separators=(',', ':') 会去掉默认的空格，使输出更紧凑。\n",
    "* default: 可以指定一个函数，用于处理无法序列化的对象。\n",
    "* sort_keys: 如果为 True，则序列化输出的字典按键排序。\n",
    "\n",
    "\n",
    "使用 json.dumps() 方法将 Python 数据类型转换为 JSON 字符串，或者使用 json.dump() 方法将 Python 数据类型直接写入到文件中。"
   ]
  },
  {
   "cell_type": "code",
   "execution_count": 3,
   "metadata": {},
   "outputs": [
    {
     "name": "stdout",
     "output_type": "stream",
     "text": [
      "{\n",
      "    \"name\": \"Alice\",\n",
      "    \"age\": 30,\n",
      "    \"is_student\": false,\n",
      "    \"scores\": [\n",
      "        85.5,\n",
      "        90.0,\n",
      "        88.5\n",
      "    ],\n",
      "    \"address\": null\n",
      "}\n"
     ]
    }
   ],
   "source": [
    "import json\n",
    "\n",
    "# Python 数据类型\n",
    "data = {\n",
    "    \"name\": \"Alice\",\n",
    "    \"age\": 30,\n",
    "    \"is_student\": False,\n",
    "    \"scores\": [85.5, 90.0, 88.5],\n",
    "    \"address\": None\n",
    "}\n",
    "\n",
    "# 将 Python 数据类型转换为 JSON 字符串\n",
    "json_string = json.dumps(data, ensure_ascii=False, indent=4)\n",
    "print(json_string)\n",
    "\n",
    "# 将 Python 数据类型写入到 JSON 文件中\n",
    "with open(\"data.json\", \"w\", encoding=\"utf-8\") as f:\n",
    "    json.dump(data, f, ensure_ascii=False, indent=4)"
   ]
  },
  {
   "cell_type": "markdown",
   "metadata": {},
   "source": [
    "### 将 json 字符串转 python 数据类型\n",
    "使用 json.loads() 方法将 JSON 字符串转换为 Python 数据类型，或者使用 json.load() 方法从文件中读取 JSON 数据并转换为 Python 数据类型。"
   ]
  },
  {
   "cell_type": "code",
   "execution_count": 4,
   "metadata": {},
   "outputs": [
    {
     "name": "stdout",
     "output_type": "stream",
     "text": [
      "{'name': 'Alice', 'age': 30, 'is_student': False, 'scores': [85.5, 90.0, 88.5], 'address': None}\n",
      "{'name': 'Alice', 'age': 30, 'is_student': False, 'scores': [85.5, 90.0, 88.5], 'address': None}\n"
     ]
    }
   ],
   "source": [
    "import json\n",
    "\n",
    "# JSON 字符串\n",
    "json_string = '''\n",
    "{\n",
    "    \"name\": \"Alice\",\n",
    "    \"age\": 30,\n",
    "    \"is_student\": false,\n",
    "    \"scores\": [85.5, 90.0, 88.5],\n",
    "    \"address\": null\n",
    "}\n",
    "'''\n",
    "\n",
    "# 将 JSON 字符串转换为 Python 数据类型\n",
    "data = json.loads(json_string)\n",
    "print(data)\n",
    "\n",
    "# 从 JSON 文件中读取数据并转换为 Python 数据类型\n",
    "with open(\"data.json\", \"r\", encoding=\"utf-8\") as f:\n",
    "    data_from_file = json.load(f)\n",
    "    print(data_from_file)"
   ]
  }
 ],
 "metadata": {
  "kernelspec": {
   "display_name": ".venv",
   "language": "python",
   "name": "python3"
  },
  "language_info": {
   "codemirror_mode": {
    "name": "ipython",
    "version": 3
   },
   "file_extension": ".py",
   "mimetype": "text/x-python",
   "name": "python",
   "nbconvert_exporter": "python",
   "pygments_lexer": "ipython3",
   "version": "3.9.19"
  }
 },
 "nbformat": 4,
 "nbformat_minor": 2
}
