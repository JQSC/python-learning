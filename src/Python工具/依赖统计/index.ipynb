{
 "cells": [
  {
   "cell_type": "code",
   "execution_count": 1,
   "metadata": {},
   "outputs": [
    {
     "data": {
      "application/vnd.jupyter.widget-view+json": {
       "model_id": "9e4772b30a6f439381ca8a1393e0edb9",
       "version_major": 2,
       "version_minor": 0
      },
      "text/plain": [
       "GridBox(children=(Button(button_style='success', description='选择查询目录', style=ButtonStyle(), tooltip='选择目录'), T…"
      ]
     },
     "execution_count": 1,
     "metadata": {},
     "output_type": "execute_result"
    },
    {
     "name": "stderr",
     "output_type": "stream",
     "text": [
      "2024-11-05 10:23:18.719 python[47089:12889811] +[IMKClient subclass]: chose IMKClient_Legacy\n",
      "2024-11-05 10:23:20.855 python[47089:12889811] The class 'NSOpenPanel' overrides the method identifier.  This method is implemented by class 'NSWindow'\n"
     ]
    }
   ],
   "source": [
    "import tkinter as tk\n",
    "from tkinter import filedialog\n",
    "import ipywidgets as widgets\n",
    "from IPython.display import HTML\n",
    "\n",
    "\n",
    "def select_directory():\n",
    "    # 初始化 Tkinter 主窗口\n",
    "    root = tk.Tk()\n",
    "    root.withdraw()  # 隐藏主窗口\n",
    "\n",
    "    # 打开文件选择对话框\n",
    "    folder_selected = filedialog.askdirectory()\n",
    "\n",
    "    # 关闭 Tkinter 主窗口\n",
    "    root.destroy()\n",
    "\n",
    "    return folder_selected\n",
    "\n",
    "button_dir = widgets.Button(\n",
    "    description='选择查询目录',\n",
    "    disabled=False,\n",
    "    button_style='success', # 'success', 'info', 'warning', 'danger' or ''\n",
    "    tooltip='选择目录',\n",
    ")\n",
    "\n",
    "text = widgets.Text(\n",
    "    value='',\n",
    "    placeholder='查询目录',\n",
    "    # description='选中的目录地址:',\n",
    "    disabled=True\n",
    ")\n",
    "\n",
    "def btn_disable():\n",
    "    button_dir.disabled = not button_dir.disabled\n",
    "\n",
    "def dir_btn_click(b):\n",
    "    btn_disable()\n",
    "    text.value = select_directory()\n",
    "    btn_disable()\n",
    "\n",
    "button_dir.on_click(dir_btn_click)\n",
    "\n",
    "widgets.GridBox([button_dir,text],layout=widgets.Layout(grid_template_columns=\"160px 320px\"))\n"
   ]
  },
  {
   "cell_type": "code",
   "execution_count": 26,
   "metadata": {},
   "outputs": [
    {
     "name": "stdout",
     "output_type": "stream",
     "text": [
      "['@components/business/ServiceKindLabel', '@components/business/modalContainer', '@components/DuolieBtn', '@components/business/OrderActions', '@components/AdslotCarousel', '@components/business/OrderActions/api', '@components/business/GrabKindStatesModal', '@components/ui/PageBar', '@components/business/OrderProgressDesc', '@components/business/JobLevel', '@components/Education', '@components/business/CandidateTable', '@components/business/CompanyTags', '@components/ErrorBoundary', '@components/Industry', '@ui/Drawer', '@components/ui/VerticalDivider', '@ui/Empty', '@components/business/OrderCommission', '@ui/VerticalDivider', '@ui/PageBar', '@components/SimpleTour', '@components/business/CompanyLogo', '@ui/Slash', '@components/VisibilityMonitor', '@components/business/InviteInterview', '@components/business/ActiveTag/service/api', '@components/business/ActiveTag']\n",
      "28\n"
     ]
    }
   ],
   "source": [
    "#  统计项目内依赖的使用情况，需要区分是项目里的依赖还是第三方依赖\n",
    "import re\n",
    "from pathlib import Path\n",
    "\n",
    "search_directory = text.value\n",
    "\n",
    "# 根据正则返回依赖的文件名\n",
    "def search_dependency_file_name(pattern, file_content):\n",
    "    dependency_files = []\n",
    "    for match in re.finditer(pattern, file_content):\n",
    "        dependency_files.append(match.group(1))\n",
    "    return dependency_files\n",
    "\n",
    "def search_file_dependency(path):\n",
    "    dependency_files = []\n",
    "    file_content = path.read_text()\n",
    "    pattern1 = r'import\\s+.*?(@(components|ui)[^\\'\"]+.*)\\'.*'\n",
    "    dependency_files.extend(search_dependency_file_name(pattern1,file_content))\n",
    "    return dependency_files\n",
    "\n",
    "def get_all_dependency_files(directory):\n",
    "    dependency_files = []\n",
    "    file_dir = Path(directory)\n",
    "    for file_path in file_dir.rglob('*'):\n",
    "        if file_path.suffix in ['.js', '.ts', '.tsx']:\n",
    "            dependency_files.extend(search_file_dependency(file_path))\n",
    "    return dependency_files\n",
    "\n",
    "dependency_files = get_all_dependency_files(search_directory)\n",
    "# 去重\n",
    "dependency_files_no_repeat = list(set(dependency_files))\n",
    "print(dependency_files_no_repeat)\n",
    "print(dependency_files_no_repeat.__len__())\n",
    "\n"
   ]
  },
  {
   "cell_type": "code",
   "execution_count": 34,
   "metadata": {},
   "outputs": [
    {
     "name": "stdout",
     "output_type": "stream",
     "text": [
      "JobTags\n",
      "ApplyEnd\n",
      "CandidateTable\n",
      "ResumePanel\n",
      "InviteInterview\n",
      "CompanyTags\n",
      "CompanyLogo\n",
      "OrderProgressDesc\n",
      "ActiveTag\n",
      "InterviewFailedModal\n",
      "CityMaxTagCount\n",
      "SingleEvaluationModal\n",
      "GrabKindStatesModal\n",
      "OrderActions\n",
      "JobLevel\n",
      "ConfirmArriveModal\n",
      "ViewInductInfoModal\n",
      "ConfirmEntryModal\n",
      "AntdCity\n",
      "DetailPublicHead\n",
      "RzkCostDetail\n",
      "ComplainPassTrialModal\n",
      "ServiceKindLabel\n",
      "modalContainer\n",
      "DetailDrawer\n",
      "OrderCommission\n",
      "RepeatRecommendModal\n",
      "GrabStatus\n",
      "AgreenChecked\n"
     ]
    },
    {
     "ename": "",
     "evalue": "",
     "output_type": "error",
     "traceback": [
      "\u001b[1;31mThe Kernel crashed while executing code in the current cell or a previous cell. \n",
      "\u001b[1;31mPlease review the code in the cell(s) to identify a possible cause of the failure. \n",
      "\u001b[1;31mClick <a href='https://aka.ms/vscodeJupyterKernelCrash'>here</a> for more info. \n",
      "\u001b[1;31mView Jupyter <a href='command:jupyter.viewOutput'>log</a> for further details."
     ]
    }
   ],
   "source": [
    "# 统计 components 组件目录名\n",
    "def components_dir_name():\n",
    "    components_dir = Path(search_directory).parent / 'components'\n",
    "    for txt_file in components_dir.iterdir():\n",
    "        print(txt_file.name)\n",
    "\n",
    "def ui_dir_name():\n",
    "    ui_dir = Path(search_directory).parent / 'components/ui'\n",
    "    for txt_file in ui_dir.iterdir():\n",
    "        print(txt_file.name)\n",
    "\n",
    "def business_dir_name():\n",
    "    business_dir = Path(search_directory).parent / 'components/business'\n",
    "    for txt_file in business_dir.iterdir():\n",
    "        print(txt_file.name)\n",
    "\n",
    "business_dir_name()"
   ]
  }
 ],
 "metadata": {
  "kernelspec": {
   "display_name": ".venv",
   "language": "python",
   "name": "python3"
  },
  "language_info": {
   "codemirror_mode": {
    "name": "ipython",
    "version": 3
   },
   "file_extension": ".py",
   "mimetype": "text/x-python",
   "name": "python",
   "nbconvert_exporter": "python",
   "pygments_lexer": "ipython3",
   "version": "3.9.19"
  }
 },
 "nbformat": 4,
 "nbformat_minor": 2
}
