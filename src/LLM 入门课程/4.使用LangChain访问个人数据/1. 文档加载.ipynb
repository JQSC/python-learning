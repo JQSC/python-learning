{
 "cells": [
  {
   "cell_type": "markdown",
   "metadata": {},
   "source": [
    "## 文档加载\n",
    "### 加载PDF文档\n"
   ]
  },
  {
   "cell_type": "code",
   "execution_count": null,
   "metadata": {},
   "outputs": [],
   "source": [
    "%pip install -q pypdf"
   ]
  },
  {
   "cell_type": "code",
   "execution_count": null,
   "metadata": {},
   "outputs": [],
   "source": [
    "from langchain.document_loaders import PyPDFLoader\n",
    "\n",
    "# 创建一个 PyPDFLoader Class 实例，输入为待加载的pdf文档路径\n",
    "loader = PyPDFLoader(\"./docs/git操作.pdf\")\n",
    "\n",
    "# 调用 PyPDFLoader Class 的函数 load对pdf文件进行加载\n",
    "pages = loader.load()\n",
    "\n",
    "print(pages[0])"
   ]
  },
  {
   "cell_type": "markdown",
   "metadata": {},
   "source": [
    "`pages` 数据结构是 `List` 类型，每一个元素代表一个文档，数据类型为langchain.schema.Document，包含两个属性：\n",
    "* page_content：包含该文档页面的内容。\n",
    "* meta_data：为文档页面相关的描述性数据。"
   ]
  },
  {
   "cell_type": "markdown",
   "metadata": {},
   "source": [
    "### 加载网页文档"
   ]
  },
  {
   "cell_type": "code",
   "execution_count": null,
   "metadata": {},
   "outputs": [],
   "source": [
    "from langchain.document_loaders import WebBaseLoader\n",
    "\n",
    "\n",
    "# 创建一个 WebBaseLoader Class 实例\n",
    "url = \"https://github.com/datawhalechina/d2l-ai-solutions-manual/blob/master/docs/README.md\"\n",
    "header = {'User-Agent': 'python-requests/2.27.1', \n",
    "          'Accept-Encoding': 'gzip, deflate, br', \n",
    "          'Accept': '*/*',\n",
    "          'Connection': 'keep-alive'}\n",
    "loader = WebBaseLoader(web_path=url,header_template=header)\n",
    "\n",
    "# 调用 WebBaseLoader Class 的函数 load对文件进行加载\n",
    "pages = loader.load()\n",
    "page = pages[0]\n",
    "print(page)\n"
   ]
  },
  {
   "cell_type": "code",
   "execution_count": null,
   "metadata": {},
   "outputs": [],
   "source": [
    "import json\n",
    "convert_to_json = json.loads(pages[0].page_content)\n",
    "extracted_markdow = convert_to_json['payload']['blob']['richText']\n",
    "print(extracted_markdow)\n"
   ]
  },
  {
   "cell_type": "markdown",
   "metadata": {},
   "source": [
    "### 加载 notion 文档\n",
    "点击Notion示例文档(https://yolospace.notion.site/Blendle-s-Employee-Handbook-e31bff7da17346ee99f531087d8b133f)右上方复制按钮(Duplicate)，复制文档到你的Notion空间\n",
    "点击右上方⋯ 按钮，选择导出为Mardown&CSV。导出的文件将为zip文件夹\n",
    "解压并保存mardown文档到本地路径docs/Notion_DB/"
   ]
  },
  {
   "cell_type": "code",
   "execution_count": 1,
   "metadata": {},
   "outputs": [
    {
     "name": "stdout",
     "output_type": "stream",
     "text": [
      "[Document(metadata={'source': 'docs\\\\Matplotlib初相识.md'}, page_content='---\\njupytext:\\n  text_representation:\\n    format_name: myst\\nkernelspec:\\n  display_name: Python 3\\n  name: python3\\n---\\n\\n# 第一回：Matplotlib 初相识\\n\\n## 一、认识 matplotlib\\n\\nMatplotlib 是一个 Python 2D 绘图库，能够以多种硬拷贝格式和跨平台的交互式环境生成出版物质量的图形，用来绘制各种静态，动态，交互式的图表。\\n\\nMatplotlib 可用于 Python 脚本，Python 和 IPython Shell、Jupyter notebook，Web 应用程序服务器和各种图形用户界面工具包等。\\n\\nMatplotlib 是 Python 数据可视化库中的泰斗，它已经成为 python 中公认的数据可视化工具，我们所熟知的 pandas 和 seaborn 的绘图接口其实也是基于 matplotlib 所作的高级封装。\\n\\n为了对 matplotlib 有更好的理解，让我们从一些最基本的概念开始认识它，再逐渐过渡到一些高级技巧中。\\n\\n## 二、一个最简单的绘图例子\\n\\nMatplotlib 的图像是画在 figure（如 windows，jupyter 窗体）上的，每一个 figure 又包含了一个或多个 axes（一个可以指定坐标系的子区域）。最简单的创建 figure 以及 axes 的方式是通过`pyplot.subplots`命令，创建 axes 以后，可以使用`Axes.plot`绘制最简易的折线图。\\n\\n```{code-cell} ipython3\\nimport matplotlib.pyplot as plt\\nimport matplotlib as mpl\\nimport numpy as np\\n```\\n\\n```{code-cell} ipython3\\nfig, ax = plt.subplots()  # 创建一个包含一个axes的figure\\nax.plot([1, 2, 3, 4], [1, 4, 2, 3]);  # 绘制图像\\n```\\n\\n**Trick**：\\n在 jupyter notebook 中使用 matplotlib 时会发现，代码运行后自动打印出类似`<matplotlib.lines.Line2D at 0x23155916dc0>`这样一段话，这是因为 matplotlib 的绘图代码默认打印出最后一个对象。如果不想显示这句话，有以下三种方法，在本章节的代码示例中你能找到这三种方法的使用。\\n\\n1. 在代码块最后加一个分号`;`\\n2. 在代码块最后加一句 plt.show()\\n3. 在绘图时将绘图对象显式赋值给一个变量，如将 plt.plot([1, 2, 3, 4]) 改成 line =plt.plot([1, 2, 3, 4])\\n\\n和 MATLAB 命令类似，你还可以通过一种更简单的方式绘制图像，`matplotlib.pyplot`方法能够直接在当前 axes 上绘制图像，如果用户未指定 axes，matplotlib 会帮你自动创建一个。所以上面的例子也可以简化为以下这一行代码。\\n\\n```{code-cell} ipython3\\nline =plt.plot([1, 2, 3, 4], [1, 4, 2, 3])\\n```\\n\\n## 三、Figure 的组成\\n\\n现在我们来深入看一下 figure 的组成。通过一张 figure 解剖图，我们可以看到一个完整的 matplotlib 图像通常会包括以下四个层级，这些层级也被称为容器（container），下一节会详细介绍。在 matplotlib 的世界中，我们将通过各种命令方法来操纵图像中的每一个部分，从而达到数据可视化的最终效果，一副完整的图像实际上是各类子元素的集合。\\n\\n- `Figure`：顶层级，用来容纳所有绘图元素\\n\\n- `Axes`：matplotlib 宇宙的核心，容纳了大量元素用来构造一幅幅子图，一个 figure 可以由一个或多个子图组成\\n\\n- `Axis`：axes 的下属层级，用于处理所有和坐标轴，网格有关的元素\\n\\n- `Tick`：axis 的下属层级，用来处理所有和刻度有关的元素\\n\\n  ![](https://matplotlib.org/_images/anatomy.png)\\n\\n## 四、两种绘图接口\\n\\nmatplotlib 提供了两种最常用的绘图接口\\n\\n1. 显式创建 figure 和 axes，在上面调用绘图方法，也被称为 OO 模式（object-oriented style)\\n\\n2. 依赖 pyplot 自动创建 figure 和 axes，并绘图\\n\\n使用第一种绘图接口，是这样的：\\n\\n```{code-cell} ipython3\\nx = np.linspace(0, 2, 100)\\n\\nfig, ax = plt.subplots()\\nax.plot(x, x, label=\\'linear\\')\\nax.plot(x, x**2, label=\\'quadratic\\')\\nax.plot(x, x**3, label=\\'cubic\\')\\nax.set_xlabel(\\'x label\\')\\nax.set_ylabel(\\'y label\\')\\nax.set_title(\"Simple Plot\")\\nax.legend()\\nplt.show()\\n```\\n\\n而如果采用第二种绘图接口，绘制同样的图，代码是这样的：\\n\\n```{code-cell} ipython3\\nx = np.linspace(0, 2, 100)\\n\\nplt.plot(x, x, label=\\'linear\\')\\nplt.plot(x, x**2, label=\\'quadratic\\')\\nplt.plot(x, x**3, label=\\'cubic\\')\\nplt.xlabel(\\'x label\\')\\nplt.ylabel(\\'y label\\')\\nplt.title(\"Simple Plot\")\\nplt.legend()\\nplt.show()\\n```\\n\\n## 五、通用绘图模板\\n\\n由于 matplotlib 的知识点非常繁杂，在实际使用过程中也不可能将全部 API 都记住，很多时候都是边用边查。因此这里提供一个通用的绘图基础模板，任何复杂的图表几乎都可以基于这个模板骨架填充内容而成。初学者刚开始学习时只需要牢记这一模板就足以应对大部分简单图表的绘制，在学习过程中可以将这个模板模块化，了解每个模块在做什么，在绘制复杂图表时如何修改，填充对应的模块。\\n\\n```{code-cell} ipython3\\n# step1 准备数据\\nx = np.linspace(0, 2, 100)\\ny = x**2\\n\\n# step2 设置绘图样式，这一模块的扩展参考第五章进一步学习，这一步不是必须的，样式也可以在绘制图像是进行设置\\nmpl.rc(\\'lines\\', linewidth=4, linestyle=\\'-.\\')\\n\\n# step3 定义布局， 这一模块的扩展参考第三章进一步学习\\nfig, ax = plt.subplots()\\n\\n# step4 绘制图像， 这一模块的扩展参考第二章进一步学习\\nax.plot(x, y, label=\\'linear\\')\\n\\n# step5 添加标签，文字和图例，这一模块的扩展参考第四章进一步学习\\nax.set_xlabel(\\'x label\\')\\nax.set_ylabel(\\'y label\\')\\nax.set_title(\"Simple Plot\")\\nax.legend() ;\\n```\\n\\n\\u200b\\n\\n## 思考题\\n\\n- 请思考两种绘图模式的优缺点和各自适合的使用场景\\n- 在第五节绘图模板中我们是以 OO 模式作为例子展示的，请思考并写一个 pyplot 绘图模式的简单模板\\n')]\n"
     ]
    }
   ],
   "source": [
    "from langchain.document_loaders import NotionDirectoryLoader\n",
    "loader = NotionDirectoryLoader(\"./docs\")\n",
    "pages = loader.load()\n",
    "print(pages)"
   ]
  }
 ],
 "metadata": {
  "kernelspec": {
   "display_name": ".venv",
   "language": "python",
   "name": "python3"
  },
  "language_info": {
   "codemirror_mode": {
    "name": "ipython",
    "version": 3
   },
   "file_extension": ".py",
   "mimetype": "text/x-python",
   "name": "python",
   "nbconvert_exporter": "python",
   "pygments_lexer": "ipython3",
   "version": "3.9.19"
  }
 },
 "nbformat": 4,
 "nbformat_minor": 2
}
